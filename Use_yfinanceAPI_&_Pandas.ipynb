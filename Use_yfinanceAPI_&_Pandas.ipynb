{
 "cells": [
  {
   "cell_type": "code",
   "execution_count": 1,
   "id": "75670f2a",
   "metadata": {},
   "outputs": [
    {
     "name": "stdout",
     "output_type": "stream",
     "text": [
      "[*********************100%%**********************]  1 of 1 completed\n",
      "[*********************100%%**********************]  1 of 1 completed\n",
      "            SPY_Daily_Return  QQQ_Daily_Return       SPY_y       QQQ_y\n",
      "Date                                                                  \n",
      "2023-01-03               NaN               NaN  380.820007  264.480011\n",
      "2023-01-04          1.007720          1.004764  383.760010  265.739990\n",
      "2023-01-05          0.988587          0.984346  379.380005  261.579987\n",
      "2023-01-06          1.022932          1.027602  388.079987  268.799988\n",
      "2023-01-09          0.999433          1.006473  387.859985  270.540009\n",
      "2023-01-10          1.007013          1.008464  390.579987  272.829987\n",
      "2023-01-11          1.012648          1.017300  395.519989  277.549988\n",
      "2023-01-12          1.003641          1.005404  396.959991  279.049988\n",
      "2023-01-13          1.003880          1.006881  398.500000  280.970001\n",
      "2023-01-17          0.998168          1.002029  397.769989  281.540009\n",
      "2023-01-18          0.984212          0.987000  391.489990  277.880005\n"
     ]
    }
   ],
   "source": [
    "import os.path\n",
    "import pandas as pd # needed for creation of dataframes\n",
    "import yfinance as yf\n",
    "from datetime import datetime, timedelta #allows us to establish a date range over which to import data\n",
    "from scipy.optimize import minimize\n",
    "import smtplib\n",
    "\n",
    "# in this exercise, I will obtain stock price information, daily returns, and combine into one exportable data frame\n",
    "\n",
    "\n",
    "tickers = ['SPY','QQQ']\n",
    "#obtaining date ranges, method 1\n",
    "# end_date = datetime.today()    # ctrl + shift blocks out sections of code\n",
    "# start_date = end_date - timedelta(days=2*365)\n",
    "\n",
    "#obtaining date ranges, preffered method\n",
    "start_date = '2023-01-01'\n",
    "end_date = '2023-01-19'\n",
    "\n",
    "close_df = pd.DataFrame() #Create data frame\n",
    "\n",
    "for ticker in tickers:\n",
    "    data = yf.download(ticker,start = start_date,end = end_date)\n",
    "    close_df[ticker] = data['Close'] \n",
    "\n",
    "daily_returns = close_df/close_df.shift(1)\n",
    "# col_list = list(daily_returns['SPY'])\n",
    "# print(col_list)\n",
    "#dir & keys\n",
    "\n",
    "merged_df = pd.merge(daily_returns,close_df, on='Date')\n",
    "merged_df.rename(columns={'SPY_x':'SPY_Daily_Return'},inplace = True)\n",
    "merged_df.rename(columns={'QQQ_x':'QQQ_Daily_Return'},inplace=True)\n",
    "\n",
    "print(merged_df)\n",
    "\n",
    "\n",
    "#print(daily_returns)\n",
    "# print(data)\n",
    "#print(close_df)\n",
    "\n",
    "#combine = pd.concat([daily_returns,close_df]) <- incorrectly stacked the data\n",
    "\n",
    "output_folder = r\"C:\\Users\\syrac\\OneDrive\\Desktop\\Python projects\"\n",
    "output_file = os.path.join(output_folder, 'SPY_QQQ_stock_returns.xlsx')\n",
    "merged_df.to_excel(output_file)\n",
    "\n",
    "\n"
   ]
  },
  {
   "cell_type": "code",
   "execution_count": null,
   "id": "89c00ad8",
   "metadata": {},
   "outputs": [],
   "source": []
  },
  {
   "cell_type": "code",
   "execution_count": null,
   "id": "1b834ba0",
   "metadata": {},
   "outputs": [],
   "source": []
  },
  {
   "cell_type": "code",
   "execution_count": null,
   "id": "07d1d0ad",
   "metadata": {},
   "outputs": [],
   "source": []
  }
 ],
 "metadata": {
  "kernelspec": {
   "display_name": "Python 3 (ipykernel)",
   "language": "python",
   "name": "python3"
  },
  "language_info": {
   "codemirror_mode": {
    "name": "ipython",
    "version": 3
   },
   "file_extension": ".py",
   "mimetype": "text/x-python",
   "name": "python",
   "nbconvert_exporter": "python",
   "pygments_lexer": "ipython3",
   "version": "3.11.3"
  }
 },
 "nbformat": 4,
 "nbformat_minor": 5
}
